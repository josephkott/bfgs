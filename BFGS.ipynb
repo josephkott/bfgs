{
 "cells": [
  {
   "cell_type": "markdown",
   "id": "ec6d1f4c",
   "metadata": {},
   "source": [
    "# Study BFGS method\n",
    "Pure implementation (`numpy` only) is based on the book \"Numerical Optimization\" by Jorge Nocedal and Stephen J. Wright."
   ]
  },
  {
   "cell_type": "code",
   "execution_count": 1,
   "id": "755c0f17",
   "metadata": {},
   "outputs": [],
   "source": [
    "import numpy as np\n",
    "\n",
    "from numpy.linalg import norm"
   ]
  },
  {
   "cell_type": "markdown",
   "id": "a1cce2a3",
   "metadata": {},
   "source": [
    "## Introduce line search function"
   ]
  },
  {
   "cell_type": "code",
   "execution_count": 2,
   "id": "9bd65d6c",
   "metadata": {},
   "outputs": [],
   "source": [
    "def line_search(phi, alpha_max=None, maxiter=10):\n",
    "    \"\"\"\n",
    "    Line search algorithm that finds suitable step length satisfying the strong Wolfe conditions.\n",
    "    Implemented accirdingly to the book \"Numerical Optimization\" by Jorge Nocedal and Stephen J. Wright.\n",
    "    \"\"\"\n",
    "    eps = 1e-6\n",
    "    c1, c2 = 1e-4, 0.9 # Constant from the book\n",
    "    alpha = [0, 1 if not alpha_max else min(1, alpha_max)]\n",
    "    dphi = lambda alpha: (phi(alpha + eps) - phi(alpha - eps)) / (2 * eps)\n",
    "\n",
    "    for k in range(1, maxiter):\n",
    "        if (\n",
    "            phi(alpha[k]) > phi(0) + c1 * alpha[k] * dphi(0)\n",
    "            or (k > 1 and phi(alpha[k]) > phi(alpha[k - 1]))\n",
    "        ):\n",
    "            return zoom(phi, dphi, alpha[k - 1], alpha[k])\n",
    "        \n",
    "        if abs(dphi(alpha[k])) <= -c2 * dphi(0):\n",
    "            return alpha[k]\n",
    "        \n",
    "        if dphi(alpha[k]) >= 0:\n",
    "            return zoom(phi, dphi, alpha[k], alpha[k - 1])\n",
    "        \n",
    "        alpha.append(2 * alpha[k] if not alpha_max else min(2 * alpha[k], alpha_max))\n",
    "\n",
    "    return alpha[-1]\n",
    "\n",
    "def quadratic_interpolation_minimizer(a, fa, dfa, b, fb):\n",
    "    return a - (dfa * ((b - a) ** 2)) / (2.0 * (fb - fa - dfa * (b - a)))\n",
    "\n",
    "def zoom(phi, dphi, alpha_low, alpha_hight):\n",
    "    c1, c2 = 1e-4, 0.9 # Constant from the book\n",
    "    while True:\n",
    "        alpha = quadratic_interpolation_minimizer(\n",
    "            alpha_low, phi(alpha_low), dphi(alpha_low), alpha_hight, phi(alpha_hight)\n",
    "        )\n",
    "        \n",
    "        # Check for bisection\n",
    "        if abs(alpha - alpha_low) < 0.1 * (alpha_hight - alpha_low):\n",
    "            alpha = 0.5 * (alpha_hight - alpha_low)\n",
    "        \n",
    "        if phi(alpha) > phi(0) + c1 * alpha * dphi(0) or phi(alpha) >= phi(alpha_low):\n",
    "            alpha_hight = alpha\n",
    "        else:\n",
    "            if abs(dphi(alpha)) <= -c2 * dphi(0):\n",
    "                return alpha\n",
    "            if dphi(alpha) * (alpha_hight - alpha_low) >= 0:\n",
    "                alpha_hight = alpha_low\n",
    "            alpha_low = alpha"
   ]
  },
  {
   "cell_type": "markdown",
   "id": "b489e04e",
   "metadata": {},
   "source": [
    "### Test line search"
   ]
  },
  {
   "cell_type": "code",
   "execution_count": 3,
   "id": "29539349",
   "metadata": {},
   "outputs": [],
   "source": [
    "eps = 1e-6\n",
    "phi = lambda alpha: (10*alpha - 1) ** 4 + np.sin(alpha)\n",
    "dphi = lambda alpha: (phi(alpha + eps) - phi(alpha - eps)) / (2 * eps)"
   ]
  },
  {
   "cell_type": "code",
   "execution_count": 4,
   "id": "f596f650",
   "metadata": {},
   "outputs": [
    {
     "name": "stdout",
     "output_type": "stream",
     "text": [
      "True True\n"
     ]
    }
   ],
   "source": [
    "c1, c2 = 1e-4, 0.9 # Constant from the book\n",
    "result = line_search(phi, alpha_max=None, maxiter=10)\n",
    "# Check Wolfe conditions\n",
    "print(phi(result) <= phi(0) + c1 * result * dphi(0), abs(dphi(result)) <= c2 * abs(dphi(0)))"
   ]
  },
  {
   "cell_type": "code",
   "execution_count": 5,
   "id": "79c66c37",
   "metadata": {},
   "outputs": [
    {
     "data": {
      "text/plain": [
       "0.08668266892653413"
      ]
     },
     "execution_count": 5,
     "metadata": {},
     "output_type": "execute_result"
    }
   ],
   "source": [
    "result"
   ]
  },
  {
   "cell_type": "markdown",
   "id": "305a86e2",
   "metadata": {},
   "source": [
    "## BFGS"
   ]
  },
  {
   "cell_type": "code",
   "execution_count": 6,
   "id": "0b872bee",
   "metadata": {},
   "outputs": [],
   "source": [
    "def compute_gradient(fun, x, eps=1e-6):\n",
    "    \"\"\"\n",
    "    Numerical approximation of the gradient with two points central difference.\n",
    "    \"\"\"\n",
    "    \n",
    "    x = np.array(x).astype('float64')\n",
    "    gradient = np.zeros(x.shape[0])\n",
    "    for i in range(x.shape[0]):\n",
    "        x_plus, x_minus = x.copy(), x.copy()\n",
    "        x_plus[i] += eps\n",
    "        x_minus[i] -= eps\n",
    "        gradient[i] = (fun(x_plus) - fun(x_minus)) / (2 * eps)\n",
    "    \n",
    "    return gradient"
   ]
  },
  {
   "cell_type": "code",
   "execution_count": 7,
   "id": "fdc939a2",
   "metadata": {},
   "outputs": [],
   "source": [
    "def bfgs(fun, x0, tol=None, gtol=None, grad=None, eps=None, maxiter=None):\n",
    "    \"\"\"\n",
    "    Minimize function using BFGS method (an analog of `scipy.optimize.minimize(method='BFGS')`).\n",
    "    \n",
    "    Parameters\n",
    "    ----------\n",
    "    fun : callable\n",
    "        Target function to be minimized.\n",
    "    x0 : ndarray, (n,)\n",
    "        Initial guess.\n",
    "    tol : float, >0\n",
    "        Target tolarance to stop iterations, $||x_{k} - x_{k - 1}|| < tol$.\n",
    "    gtol : float, >0\n",
    "        Target gradient tolarance to sotp iterations, $||||$\n",
    "    gradient : collable\n",
    "        Function to compute gradient, `grad(x) -> ndarray`.\n",
    "    eps : float\n",
    "        Step size for numerical approximation of the gradient (if `grad` is not specified).\n",
    "    \"\"\"\n",
    "    \n",
    "    if not grad:\n",
    "        grad = lambda x: compute_gradient(fun, x)\n",
    "    \n",
    "    if not gtol:\n",
    "        gtol = 1e-9\n",
    "    \n",
    "    k = 0\n",
    "    x = [x0]\n",
    "    \n",
    "    x0 = np.array(x0)\n",
    "    identity_matrix = np.identity(x0.shape[0])\n",
    "    \n",
    "    # Initial approximation of the inverse Hessian matrix\n",
    "    inverse_hessian = identity_matrix.copy()\n",
    "    \n",
    "    while norm(grad(x[k])) > gtol:\n",
    "        if maxiter and k == maxiter:\n",
    "            break\n",
    "        \n",
    "        # Compute search direction\n",
    "        p = -inverse_hessian.dot(grad(x[k]))\n",
    "        \n",
    "        # Compute next value `x[k + 1]` from a line search procedure\n",
    "        # to satisfy the Wolfe conditions\n",
    "        phi = lambda alpha: fun(x[k] + alpha * p)\n",
    "        alpha = line_search(phi)\n",
    "        \n",
    "        # Compare with `scipy` implementation of `line_search`\n",
    "        # print(optimize.line_search(fun, grad, x[k], p))\n",
    "        # alpha = optimize.line_search(fun, grad, x[k], p)[0]\n",
    "        \n",
    "        x.append(x[k] + alpha * p)\n",
    "        \n",
    "        if tol and norm(x[k + 1] - x[k]) < tol:\n",
    "            break\n",
    "        \n",
    "        # Update inverse Hessian matrix\n",
    "        s = x[k + 1] - x[k]\n",
    "        y = grad(x[k + 1]) - grad(x[k])\n",
    "        \n",
    "        rho = 1 / np.dot(y, s)\n",
    "        \n",
    "        inverse_hessian = (identity_matrix - rho * s[..., None] * y).dot(\n",
    "            inverse_hessian.dot(\n",
    "                identity_matrix - rho * y[..., None] * s)) + (rho * s[..., None] * s)\n",
    "        \n",
    "        # Next iteration\n",
    "        k += 1\n",
    "        \n",
    "    return {'x': x[-1], 'hess_inv': inverse_hessian, 'nit': k}"
   ]
  },
  {
   "cell_type": "markdown",
   "id": "0fb41727",
   "metadata": {},
   "source": [
    "### Test BFGS on Rosenbrock function"
   ]
  },
  {
   "cell_type": "code",
   "execution_count": 8,
   "id": "b8bcf6f5",
   "metadata": {},
   "outputs": [],
   "source": [
    "fun = lambda x: (1 - x[0]) ** 2 + 100 * (x[1] - x[0] ** 2) ** 2"
   ]
  },
  {
   "cell_type": "code",
   "execution_count": 9,
   "id": "834700ed",
   "metadata": {},
   "outputs": [
    {
     "data": {
      "text/plain": [
       "{'x': array([1.        , 0.99999999]),\n",
       " 'hess_inv': array([[0.49979725, 0.99964772],\n",
       "        [0.99964772, 2.00438779]]),\n",
       " 'nit': 25}"
      ]
     },
     "execution_count": 9,
     "metadata": {},
     "output_type": "execute_result"
    }
   ],
   "source": [
    "result = bfgs(fun, [4, 2], gtol=1e-6)\n",
    "result"
   ]
  },
  {
   "cell_type": "markdown",
   "id": "18b205b4",
   "metadata": {},
   "source": [
    "### SciPy implementation"
   ]
  },
  {
   "cell_type": "code",
   "execution_count": 10,
   "id": "64a77262",
   "metadata": {},
   "outputs": [
    {
     "data": {
      "text/plain": [
       "      fun: 5.7421750691157386e-18\n",
       " hess_inv: array([[0.50201727, 1.00397784],\n",
       "       [1.00397784, 2.01284373]])\n",
       "      jac: array([-2.91032138e-08,  1.24374178e-08])\n",
       "  message: 'Optimization terminated successfully.'\n",
       "     nfev: 65\n",
       "      nit: 50\n",
       "     njev: 65\n",
       "   status: 0\n",
       "  success: True\n",
       "        x: array([1., 1.])"
      ]
     },
     "execution_count": 10,
     "metadata": {},
     "output_type": "execute_result"
    }
   ],
   "source": [
    "from scipy.optimize import minimize\n",
    "\n",
    "result = minimize(fun, [4, 2], jac=lambda x: compute_gradient(fun, x), method='BFGS', options={'gtol': 1e-6})\n",
    "result"
   ]
  }
 ],
 "metadata": {
  "kernelspec": {
   "display_name": "Python 3 (ipykernel)",
   "language": "python",
   "name": "python3"
  },
  "language_info": {
   "codemirror_mode": {
    "name": "ipython",
    "version": 3
   },
   "file_extension": ".py",
   "mimetype": "text/x-python",
   "name": "python",
   "nbconvert_exporter": "python",
   "pygments_lexer": "ipython3",
   "version": "3.9.7"
  }
 },
 "nbformat": 4,
 "nbformat_minor": 5
}
